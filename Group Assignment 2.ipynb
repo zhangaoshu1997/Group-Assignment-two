{
 "cells": [
  {
   "cell_type": "markdown",
   "metadata": {},
   "source": [
    "<img src=\"NBA.png\">"
   ]
  },
  {
   "cell_type": "markdown",
   "metadata": {},
   "source": [
    "# Description"
   ]
  },
  {
   "cell_type": "markdown",
   "metadata": {},
   "source": [
    "This ER diagram is created to be used as an advanced database to store players Stats and help the coach to judge their performance in NBA league. The reason why I want to create this diagram is today people always relie on players' field goal percentage to judge their overall performances. And the fact is there are many other factors we need to consider as well. For instance, James Harden and Andre Iguodala, a former MVP winner and a bench player. Both of them had 35 FG% at the 3-pt line last season. But if you watch the games, you will know that Harden attempted much more 3 pointers than Iguodala and most of Harden's 3-pt attempts were heavily contested by the defenders while most of Iguodala's attempts were lightly contested or wide open. In this case, we can’t just simply say that Harden is as good as Iguodala at the 3-pt line because of their same FG%.So I create this simple advanced tool to make the judgement more accurate. Basically, the way how this diagram is going to store players information, their field goal percentage, points they scored and defenses they faced. And all those factors will contribute to the end user data which is the efficiency of players. The efficiency of a player is calculated by the points he scored minus the lightly contested attempts multiplied by points corresponded. The efficiency can be positive, negative and zero. The higher the efficiency is, the better a player performed. For example if player J scored 21 at the three point line in a game and the lightly contested attempts he got are 4, his efficiency will be 21-3* 4=+9. After collecting all players' efficiency in a game or through the whole season. The coach or the analyst is able to rank them from high to low to see which player's performance are the best. \n",
    "\n",
    "The attributes under primary key \"player's name\" include position, height, jersey number, weight and years played. These are all basic informations of a player. Since a NBA team can have up to 15 players and there should at least be one player to ensure the database is working, the connectivity of player to performance and player to field goal is (1,15). Primary key \"field goal percentage\" has attributes of 2-pt, 3-pt and free throws. Since a player can have 0 to 100 percent of FG%. The connectivity between it and player is (0,100). Primary key \"points scored\" has all attributes that field goal percentage has plus and one. Since the highest points scored of all time is 100 by Wilt Chamberlain. And we assume that no player can break that record in a short period(but who knows what will happen in the future. So the connectivity between points and players is (0,100). And attributes under primary key \"contested shots\" include lightly contested attempts, heavily contested attempts and wide open attempts. The defense efforts of the opponents can vary from none to a hundred percent effort. So the connectivity between contested shots and points scored is (0,100). Last and the most important primary key is the efficiency of players, attributes under it include 2-pt efficiency, 3-pt efficiency, free throw efficiency and the overall efficiency. Since a player's efficiency can up to a very good positive number or a very bad negative number, the connectivity between it and the contested shots will be (-100,+100). "
   ]
  }
 ],
 "metadata": {
  "kernelspec": {
   "display_name": "Python 3",
   "language": "python",
   "name": "python3"
  },
  "language_info": {
   "codemirror_mode": {
    "name": "ipython",
    "version": 3
   },
   "file_extension": ".py",
   "mimetype": "text/x-python",
   "name": "python",
   "nbconvert_exporter": "python",
   "pygments_lexer": "ipython3",
   "version": "3.7.3"
  }
 },
 "nbformat": 4,
 "nbformat_minor": 2
}
